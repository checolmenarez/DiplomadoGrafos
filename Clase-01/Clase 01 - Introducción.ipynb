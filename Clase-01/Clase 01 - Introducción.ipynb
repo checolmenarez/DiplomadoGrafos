{
 "cells": [
  {
   "cell_type": "markdown",
   "metadata": {},
   "source": [
    "# Clase 01 - Introducción\n",
    "\n",
    "Mediante este `Jupyter Notebook` vamos a ejecutar un algoritmo clásico en teoría de grafos llamado Breath-First Search (BFS). Este algoritmo nos sirve para conocer todos los nodos conectados a un nodo inicial."
   ]
  },
  {
   "cell_type": "code",
   "execution_count": 36,
   "metadata": {},
   "outputs": [
    {
     "data": {
      "image/png": "[encoded data removed]",
      "text/plain": [
       "<Figure size 432x288 with 1 Axes>"
      ]
     },
     "metadata": {},
     "output_type": "display_data"
    }
   ],
   "source": [
    "%matplotlib inline\n",
    "\n",
    "import networkx as nx\n",
    "import matplotlib.pyplot as plt\n",
    "\n",
    "NODES = [1, 2, 3, 4, 5]\n",
    "\n",
    "G = nx.DiGraph()\n",
    "G.add_nodes_from(NODES)\n",
    "G.add_edge(1, 2)\n",
    "G.add_edge(1, 3)\n",
    "G.add_edge(1, 5)\n",
    "G.add_edge(2, 4)\n",
    "G.add_edge(4, 3)\n",
    "\n",
    "pos = nx.spring_layout(G)  \n",
    "\n",
    "nx.draw_networkx_labels(G, pos, font_size=20, font_family='sans-serif')\n",
    "nx.draw_networkx_nodes(G, pos, node_size=1000)\n",
    "edges = nx.draw_networkx_edges(G, pos, node_size=1000, arrowstyle='->')\n",
    "\n",
    "nx.draw(G, pos)\n",
    "plt.show()\n",
    "\n",
    "adjacency_matrix = nx.to_numpy_matrix(G)"
   ]
  },
  {
   "cell_type": "code",
   "execution_count": 49,
   "metadata": {},
   "outputs": [
    {
     "name": "stdout",
     "output_type": "stream",
     "text": [
      "[[0. 1. 1. 0. 1.]\n",
      " [0. 0. 0. 1. 0.]\n",
      " [0. 0. 0. 0. 0.]\n",
      " [0. 0. 1. 0. 0.]\n",
      " [0. 0. 0. 0. 0.]]\n",
      "Nodos conectados:\n",
      "Nodo 2\n",
      "Nodo 3\n",
      "Nodo 4\n"
     ]
    }
   ],
   "source": [
    "print(adjacency_matrix)\n",
    "\n",
    "STARTING_NODE = 2\n",
    "STARTING_NODE = STARTING_NODE - 1\n",
    "\n",
    "visited = set()\n",
    "queue = [STARTING_NODE]\n",
    "\n",
    "while queue:\n",
    "    vertex = queue.pop(0)\n",
    "    if vertex not in visited:\n",
    "        visited.add(vertex)\n",
    "        for i in range(adjacency_matrix.shape[0]):\n",
    "            if adjacency_matrix[vertex, i] == 1.:\n",
    "                queue.append(i)\n",
    "        \n",
    "print(\"Nodos conectados:\")\n",
    "for node in visited:\n",
    "    print(\"Nodo {}\".format(node + 1))"
   ]
  },
  {
   "cell_type": "code",
   "execution_count": null,
   "metadata": {},
   "outputs": [],
   "source": []
  }
 ],
 "metadata": {
  "kernelspec": {
   "display_name": "Python 3",
   "language": "python",
   "name": "python3"
  },
  "language_info": {
   "codemirror_mode": {
    "name": "ipython",
    "version": 3
   },
   "file_extension": ".py",
   "mimetype": "text/x-python",
   "name": "python",
   "nbconvert_exporter": "python",
   "pygments_lexer": "ipython3",
   "version": "3.7.3"
  }
 },
 "nbformat": 4,
 "nbformat_minor": 2
}
