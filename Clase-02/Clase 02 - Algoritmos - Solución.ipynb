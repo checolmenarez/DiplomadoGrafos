{
 "cells": [
  {
   "cell_type": "markdown",
   "metadata": {},
   "source": [
    "# Clase 02 - Algoritmos en grafos\n",
    "\n",
    "En esta actividad vamos a programar dos algoritmos importantes a la hora de analizar un grafo:\n",
    "\n",
    "- PageRank: algoritmo que nos sirve para rankear nodos de acuerdo a su importancia\n",
    "- Algoritmo de Dijkstra: algoritmo que nos permite encontrar las distancias más cortas entre nodos."
   ]
  },
  {
   "cell_type": "markdown",
   "metadata": {},
   "source": [
    "## 01 - PageRank\n",
    "\n",
    "Como vimos en clases, PageRank es un algoritmo iterativo que le otorga una calificación a cada nodo. Mientras más alta esta calificación, más alta es la importancia de este nodo en la red. Una fórmula general para PageRank es la siguiente:\n",
    "\n",
    "$$\n",
    "PR_t(n_i) = \\frac{1-d}{N} + d \\sum_{n_j\\ \\in\\ In(n_i)}\\frac{PR_{t-1}(n_j)}{Out(n_j)}\n",
    "$$"
   ]
  },
  {
   "cell_type": "markdown",
   "metadata": {},
   "source": [
    "En la que: \n",
    "\n",
    "- $PR_t(n_i)$ es el PageRank del nodo $i$ en la iteración $t$.\n",
    "- $N$ es el número de nodos en el grafo.\n",
    "- $d$ es el _damping factor_ (usualmente 0.85).\n",
    "- $In(n_i)$ es una función que retorna todos los nodos que apuntan hacia $n_i$.\n",
    "- $Out(n_j)$ es una función que retorna el número de nodos hacia los que $n_j$ apunta.\n",
    "\n",
    "### P1 - Función `pagerank`\n",
    "\n",
    "En esta tarea deben implementar en Python una función llamada `pagerank` que recibe una matriz de adyacencia y retorna una lista con el PageRank de cada uno de los nodos."
   ]
  },
  {
   "cell_type": "code",
   "execution_count": 1,
   "metadata": {},
   "outputs": [
    {
     "name": "stdout",
     "output_type": "stream",
     "text": [
      "[0.037500000000000006, 0.08531250000000001, 0.125953125, 0.037500000000000006]\n"
     ]
    }
   ],
   "source": [
    "from functools import reduce\n",
    "\n",
    "def norm_difference(v1, v2):\n",
    "    v_difference = [(v1[i] - v2[i]) for i in range(len(v1))]\n",
    "    v_squared = map((lambda x: (x)**2), v_difference)\n",
    "    return (reduce((lambda x, y: x + y), v_squared))**(1/2)\n",
    "\n",
    "def calculate_pagerank_node(node, v, M, d, N):\n",
    "    # node es el id del nodo que está siendo calculado\n",
    "    # v es el vector de PageRank en la iteración pasada\n",
    "    # M es la matriz de adyacencia\n",
    "    pagerank_node = 0\n",
    "    for j in range(N):\n",
    "        if M[j][node] == 1:\n",
    "            outgoing_links = reduce((lambda x, y: x + y), M[j])\n",
    "            pagerank_node += v[j]/outgoing_links\n",
    "    pagerank_node = (1-d)/N + d*pagerank_node\n",
    "    return pagerank_node\n",
    "            \n",
    "    \n",
    "\n",
    "def pagerank(M, eps=1.0e-8, d=0.85):\n",
    "    N = len(M)\n",
    "    v = [1/N for _ in range(N)]\n",
    "    last_v = [100 for _ in range(N)]\n",
    "    \n",
    "    # Calculamos el PageRank de cada nodo\n",
    "    while norm_difference(v, last_v) > eps:\n",
    "        \n",
    "        last_v = []\n",
    "        for element in v:\n",
    "            last_v.append(element)\n",
    "        \n",
    "        v = []\n",
    "        for i in range(N):\n",
    "            v.append(calculate_pagerank_node(i, last_v, M, d, N))\n",
    "        \n",
    "    return v\n",
    "\n",
    "M = [[0, 1, 0, 0],\n",
    "     [0, 0, 1, 0],\n",
    "     [0, 0, 0, 0],\n",
    "     [0, 1, 1, 0]]\n",
    "\n",
    "# Llamamos a la función\n",
    "pr = pagerank(M, 0.0001)\n",
    "print(pr)"
   ]
  },
  {
   "cell_type": "markdown",
   "metadata": {},
   "source": [
    "### P2 - Comprobar resultados\n",
    "\n",
    "Ahora considere el siguiente grafo construido con la librería `networkx`:"
   ]
  },
  {
   "cell_type": "code",
   "execution_count": 2,
   "metadata": {},
   "outputs": [
    {
     "name": "stdout",
     "output_type": "stream",
     "text": [
      "El PageRank del grafo es: {1: 0.08550676865904419, 2: 0.08550676865904419, 3: 0.23086724332915926, 4: 0.08550676865904419, 5: 0.42710568203466376, 6: 0.08550676865904419}\n"
     ]
    }
   ],
   "source": [
    "import networkx as nx\n",
    "\n",
    "NODES = [1, 2, 3, 4, 5, 6]\n",
    "\n",
    "# Estas son las aristas\n",
    "G = nx.DiGraph()\n",
    "G.add_nodes_from(NODES)\n",
    "G.add_edge(1, 3)\n",
    "G.add_edge(2, 3)\n",
    "G.add_edge(4, 3)\n",
    "G.add_edge(2, 5)\n",
    "G.add_edge(3, 5)\n",
    "G.add_edge(4, 5)\n",
    "G.add_edge(6, 5)\n",
    "\n",
    "print('El PageRank del grafo es:', nx.pagerank(G))"
   ]
  },
  {
   "cell_type": "markdown",
   "metadata": {},
   "source": [
    "Construya la matriz de adyacencia del grafo utilizando listas de Python y compute el PageRank utilizando la función que definió en el punto anterior. Compare que sus resultados sean los mismos y explique el resultado.\n",
    "\n",
    "**Observación**: El PageRank calculado por Networkx está normalizado, por lo que debes normalizarlos para comparar los resultados."
   ]
  },
  {
   "cell_type": "markdown",
   "metadata": {},
   "source": [
    "## 02 - Algoritmo de Dijkstra\n",
    "\n",
    "Como vimos en clases, el Algoritmo de Dijkstra nos sirve para computar caminos más cortos entre nodos en que las aristas tienen un costo asociado. Suponga que el usuario va a entregar una matriz de adyacencia que en vez de un 1 posee el costo de ir de un nodo a otro. Por ejemplo, esta sería un posible input:\n",
    "\n",
    "```Python\n",
    "M = [[0, 10, 0, 4, 3],\n",
    "     [0, 0, 2, 0, 0],\n",
    "     [0, 0, 0, 0, 0],\n",
    "     [0, 3, 0, 0, 0],\n",
    "     [0, 0, 15, 0, 0]]\n",
    "```\n",
    "\n",
    "### P1 - Función `dijkstra_algorithm`\n",
    "\n",
    "Haga una función llamada `dijkstra_algorithm` que reciba la matriz de adyacencia junto con el identificador de un nodo de partida. La función debe retornar cada nodo junto al costo del camino más corto para llegar a él, partiendo desde el nodo inicial."
   ]
  },
  {
   "cell_type": "code",
   "execution_count": 23,
   "metadata": {},
   "outputs": [],
   "source": [
    "from math import inf\n",
    "\n",
    "def get_by_priority(to_explore, costs):\n",
    "    minimum = inf\n",
    "    min_pos = -1\n",
    "    for element in to_explore:\n",
    "        if costs[element][1] < minimum:\n",
    "            minimum = costs[element][1]\n",
    "            min_pos = element\n",
    "    return min_pos\n",
    "\n",
    "def dijkstra_algorithm(M, source):\n",
    "    visited = set()\n",
    "    to_explore = []\n",
    "    N = len(M)\n",
    "    costs = [(-1, inf) for i in range(N)]\n",
    "    costs[source] = (source, 0)\n",
    "    \n",
    "    to_explore.append(source)\n",
    "    \n",
    "    while to_explore:\n",
    "        min_pos = get_by_priority(to_explore, costs)\n",
    "        visited.add(min_pos)\n",
    "        to_explore.remove(min_pos)\n",
    "        for i in range(N):\n",
    "            if i not in visited and M[min_pos][i] > 0:\n",
    "                if M[min_pos][i] + costs[min_pos][1] < costs[i][1]:\n",
    "                    costs[i] = (min_pos, M[min_pos][i] + costs[min_pos][1])\n",
    "                    if i not in to_explore:\n",
    "                        to_explore.append(i)\n",
    "    \n",
    "    return costs"
   ]
  },
  {
   "cell_type": "markdown",
   "metadata": {},
   "source": [
    "### P2 - Encontrar el camino\n",
    "\n",
    "Use el algoritmo anterior para crear una función llamada `shortest_path` que recibe la matriz de adyacencia, un nodo inicial y un nodo objetivo y entregue los nodos por los que debo pasar para llegar desde el nodo inicial al final con menor costo. Asuma que el camino entre esos dos nodos existe."
   ]
  },
  {
   "cell_type": "code",
   "execution_count": 36,
   "metadata": {},
   "outputs": [
    {
     "name": "stdout",
     "output_type": "stream",
     "text": [
      "Nodo 0\n",
      "Nodo 3\n",
      "Nodo 1\n",
      "Nodo 2\n"
     ]
    }
   ],
   "source": [
    "def get_parent(M, s, t, l):\n",
    "    if costs[t][0] == s:\n",
    "        l.append(costs[t][0])\n",
    "        return l\n",
    "    else:\n",
    "        l.append(costs[t][0])\n",
    "        return get_parent(M, s, costs[t][0], l)\n",
    "\n",
    "def shortest_path(M, s, t):\n",
    "    costs = dijkstra_algorithm(M, s)\n",
    "    if s == t:\n",
    "        print(\"Son el mismo nodo\")\n",
    "    else:\n",
    "        l = [t]\n",
    "        return get_parent(M, s, t, l)\n",
    "    \n",
    "M = [[0, 10, 0, 4, 3],\n",
    "     [0, 0, 2, 0, 0],\n",
    "     [0, 0, 0, 0, 0],\n",
    "     [0, 3, 0, 0, 0],\n",
    "     [0, 0, 15, 0, 0]]\n",
    "\n",
    "s = 0\n",
    "t = 2\n",
    "l = shortest_path(M, s, t)\n",
    "\n",
    "for i in range(len(l)):\n",
    "    print(\"Nodo\", l[len(l) - 1 - i])"
   ]
  }
 ],
 "metadata": {
  "kernelspec": {
   "display_name": "Python 3",
   "language": "python",
   "name": "python3"
  },
  "language_info": {
   "codemirror_mode": {
    "name": "ipython",
    "version": 3
   },
   "file_extension": ".py",
   "mimetype": "text/x-python",
   "name": "python",
   "nbconvert_exporter": "python",
   "pygments_lexer": "ipython3",
   "version": "3.7.3"
  }
 },
 "nbformat": 4,
 "nbformat_minor": 2
}
